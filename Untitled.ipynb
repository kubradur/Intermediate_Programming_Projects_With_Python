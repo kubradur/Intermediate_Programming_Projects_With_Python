{
 "cells": [
  {
   "cell_type": "code",
   "execution_count": 1,
   "id": "5487f732-1b91-4662-b777-899cfe0027e6",
   "metadata": {},
   "outputs": [],
   "source": [
    "# lambda kullanımı\n",
    "#tek satırda fonksiyon tanımlamak için kullanılan özel bir kelimedir \n",
    "# lambda ile tek satırda fonksiyon tanımlamanın formülü \n",
    "#lambda parametre:işlem\n",
    "\n",
    "#lambda =anahtar kelime (tıpkı normal fonksiyon tanımlarken kullandığımız def anahtar kelimse gibi MUTLAKA AMA MUTLAKA OLMALI)\n",
    "#NOT: birden fazka parametre olması olması durumunda virgüllerle birbirinden ayrrılır.\n",
    "#Normal fonnksiyon ile dışarıdan girilen bir sayının karesinin alınması\n"
   ]
  },
  {
   "cell_type": "code",
   "execution_count": 7,
   "id": "a71e24d3-858b-465e-82c1-31fe42edca1c",
   "metadata": {},
   "outputs": [
    {
     "name": "stdout",
     "output_type": "stream",
     "text": [
      "10 sayısının lambda ile karesinin alınması= 100\n"
     ]
    }
   ],
   "source": [
    "#lambda ile girilen bir sayının karesinin yazılmasu \n",
    "kare_lm=lambda y:y**2\n",
    "print(f\"10 sayısının lambda ile karesinin alınması= {kare_lm(10)}\")\n",
    "      "
   ]
  },
  {
   "cell_type": "code",
   "execution_count": 23,
   "id": "be2bc822-c99e-4e9e-99a7-0421954172c2",
   "metadata": {},
   "outputs": [
    {
     "name": "stdout",
     "output_type": "stream",
     "text": [
      " KÜBRA DUR ismi 10 karakterden oluşur\n",
      " KÜBRA DUR ismi 10 karakterden oluşur\n"
     ]
    }
   ],
   "source": [
    "#parametre olarak girilen bir str ifadenin kaç harften?karakterden oluştuğunu bulan lambda kodu/normal kod\n",
    "#Normal kod ile\n",
    "def cumle_karakter(str_ifade):\n",
    "    return len(str_ifade)\n",
    "print(f\" KÜBRA DUR ismi {cumle_karakter('KÜBRA DUR ')} karakterden oluşur\")\n",
    "#lambda ile\n",
    "cumle_karakter= lambda str_degisken:len(str_degisken)\n",
    "print(f\" KÜBRA DUR ismi {cumle_karakter('KÜBRA DUR ')} karakterden oluşur\")"
   ]
  },
  {
   "cell_type": "code",
   "execution_count": 33,
   "id": "822294ff-c617-4819-b0cf-e0af79cadb3e",
   "metadata": {},
   "outputs": [
    {
     "name": "stdout",
     "output_type": "stream",
     "text": [
      " KÜBRA DUR ismi 2 kelimeden  oluşur\n",
      " KÜBRA DUR ismi 2 kelimeden  oluşur\n"
     ]
    }
   ],
   "source": [
    "#Girilen bir str ifadenşn kelime sayısını hesaplayan normal kod ve lambda kod \n",
    "#KÜBRA DUR yazıldığında 2 değerinin döndürecek \n",
    "#Normal kod ile\n",
    "def count_sentence(str_cumle):\n",
    "    return len(str_cumle.split())\n",
    "print(f\" KÜBRA DUR ismi {count_sentence('KÜBRA DUR ')} kelimeden  oluşur\")\n",
    "#lambda ile\n",
    "count_sentence_lm= lambda x:len(x.split())\n",
    "print(f\" KÜBRA DUR ismi {count_sentence_lm('KÜBRA DUR ')} kelimeden  oluşur\")\n"
   ]
  },
  {
   "cell_type": "code",
   "execution_count": 37,
   "id": "f6f131fc-24b9-4467-ad4c-b7096771b0e3",
   "metadata": {},
   "outputs": [
    {
     "name": "stdout",
     "output_type": "stream",
     "text": [
      " 5 ve 520 sayılarının toplamı= 525\n",
      "25 ve 35 sayılarının toplamı = 60\n"
     ]
    }
   ],
   "source": [
    "#Girilen iki sayının toplamını döndüren fonksiyon \n",
    "#normal kod ile\n",
    "def toplam(a,b):\n",
    "    return a+b\n",
    "print(f\" 5 ve 520 sayılarının toplamı= {toplam(5,520)}\")\n",
    "#lambda ile\n",
    "toplam_lm= lambda x,y:x+y \n",
    "print(f\"25 ve 35 sayılarının toplamı = {toplam(25,35)}\")\n"
   ]
  },
  {
   "cell_type": "code",
   "execution_count": 43,
   "id": "39adfd66-6e97-4d2b-87c7-442df5b3a4bd",
   "metadata": {},
   "outputs": [
    {
     "name": "stdout",
     "output_type": "stream",
     "text": [
      "24.0\n",
      "sayıların toplamı 24.0\n"
     ]
    }
   ],
   "source": [
    "#girilem 3 adet sayının ortalamsını döndğren fonksiyon ve lambda \n",
    "\n",
    "def toplama_islemi(sayi1:int,sayi2:int,sayi3:int):\n",
    "    ortalama=(sayi1+sayi2+sayi3)/3\n",
    "    return ortalama\n",
    "\n",
    "toplam_1=toplama_islemi(12,24,36)\n",
    "print(toplam_1)\n",
    "\n",
    "toplam_isl= lambda a,b,c:(a+b+c)/3\n",
    "print(f\"sayıların toplamı {toplam_isl(12,24,36)}\")\n"
   ]
  },
  {
   "cell_type": "code",
   "execution_count": 52,
   "id": "81e5be32-8e52-47f7-9a9d-143015e0fb4d",
   "metadata": {},
   "outputs": [
    {
     "name": "stdout",
     "output_type": "stream",
     "text": [
      "16 sayısı ÇİFT sayıdır\n",
      "17 sayısı TEK sayıdır\n"
     ]
    }
   ],
   "source": [
    "#Lambda ile if kullanımı if-else \n",
    "#formül aşağıdaki gibidir.\n",
    "# lambda x: \"TRUE YANITI\" if kosul else \"ELSE YANITI\"\n",
    "\n",
    "#Girilen sayının tek olması durumunda tek yazan değilse çift yazan lambda kodu \n",
    "tek_mi_cift_mi= lambda sayi:\"ÇİFT\" if sayi%2==0 else \"TEK\"\n",
    "print(f\"16 sayısı {tek_mi_cift_mi(16)} sayıdır\")\n",
    "print(f\"17 sayısı {tek_mi_cift_mi(17)} sayıdır\")\n",
    "      \n"
   ]
  },
  {
   "cell_type": "code",
   "execution_count": 70,
   "id": "daae3afa-dd73-411b-b018-d81184ba9336",
   "metadata": {},
   "outputs": [
    {
     "name": "stdout",
     "output_type": "stream",
     "text": [
      "21 ve 17 sayısından 21 büyüktür\n",
      "25 ve 22 sayısından 22 küçüktür\n"
     ]
    }
   ],
   "source": [
    "#Girilen iki sayıdan büuyüğünü döndüren lambda \n",
    "#girilen iki sayın-dan küçüğünü döndüren lambda\n",
    "\n",
    "buyugunu_dondur=lambda sayi1,sayi2: sayi1 if sayi1>sayi2 else sayi2\n",
    "\n",
    "print(f\"21 ve 17 sayısından {buyugunu_dondur(21,17)} büyüktür\")\n",
    "\n",
    "kucugunu_dondur=lambda sayi1,sayi2: sayi1 if sayi1<sayi2 else sayi2\n",
    "\n",
    "print(f\"25 ve 22 sayısından {kucugunu_dondur(25,22)} küçüktür\")"
   ]
  },
  {
   "cell_type": "code",
   "execution_count": 82,
   "id": "a2e5ce44-904c-42c6-a414-7946f8cc77b6",
   "metadata": {},
   "outputs": [
    {
     "name": "stdout",
     "output_type": "stream",
     "text": [
      "29 derece için hava ILIK \n",
      "30 derece için hava SICAK \n",
      "31 derece için hava SICAK \n"
     ]
    }
   ],
   "source": [
    "#Girilen hava sıcaklığı  30'dan küçükse ılık \n",
    "#30 veya 30'dan büyükse sıcak yazan lambda kodu\n",
    "hava_sicakligi=lambda hava: \"ILIK\" if hava<30 else \"SICAK\"\n",
    "print(f\"29 derece için hava {hava_sicakligi(29)} \")\n",
    "print(f\"30 derece için hava {hava_sicakligi(30)} \")\n",
    "print(f\"31 derece için hava {hava_sicakligi(31)} \")\n",
    "\n"
   ]
  },
  {
   "cell_type": "code",
   "execution_count": 90,
   "id": "db3acfa1-6d39-4d62-a88d-d10bfe9cafbe",
   "metadata": {},
   "outputs": [
    {
     "name": "stdout",
     "output_type": "stream",
     "text": [
      "70,50,40 için en büyük sayı 70\n",
      "10,50,30 için en büyük sayı 50\n",
      "20,50,90 için en büyük sayı 90\n",
      "20,20,20 için en büyük sayı HEPSİ EŞİTTİR\n"
     ]
    }
   ],
   "source": [
    "#Girilen üç sayı arasında en büyük sayıyı geri döndüren lambda kodu \n",
    "buyuk_sayi=lambda x,y,z: x if x>y and x>z else(y if y>z else (\"HEPSİ EŞİTTİR\" if x==y and y==z else z))\n",
    "print(f\"70,50,40 için en büyük sayı {buyuk_sayi(70,50,40)}\")\n",
    "print(f\"10,50,30 için en büyük sayı {buyuk_sayi(10,50,30)}\")\n",
    "print(f\"20,50,90 için en büyük sayı {buyuk_sayi(20,50,90)}\")\n",
    "print(f\"20,20,20 için en büyük sayı {buyuk_sayi(20,20,20)}\")\n",
    "\n"
   ]
  },
  {
   "cell_type": "code",
   "execution_count": 100,
   "id": "12285c72-3cac-4e21-a0bd-ab9dc56ffce5",
   "metadata": {},
   "outputs": [
    {
     "name": "stdout",
     "output_type": "stream",
     "text": [
      "31 derece hava için ÇOK SICAK\n",
      "1  derece hava için SOĞUK\n",
      "11 derece hava için ILIK\n",
      "51 derece hava için TANIMSIZ\n",
      "17 derece hava için SICAK\n"
     ]
    }
   ],
   "source": [
    "#0 ile 5 derece arası soğuk \n",
    "#6-15 derece aradı ılık\n",
    "#16-25 arası sıcak \n",
    "#26-40 arası çok sıcak \n",
    "#hiç biri değilse tanımsız değer \n",
    "\n",
    "hava_sicakligi= lambda hava: \"SOĞUK\" if hava>0 and hava<=5 else (\"ILIK\" if hava>6 and hava<=15 else(\"SICAK\" if hava>16 and hava<=25 else (\"ÇOK SICAK\" if hava>26 and hava<=40 else \"TANIMSIZ\")))  \n",
    "print(f\"31 derece hava için {hava_sicakligi(31)}\")\n",
    "print(f\"1  derece hava için {hava_sicakligi(1)}\")\n",
    "print(f\"11 derece hava için {hava_sicakligi(11)}\")\n",
    "print(f\"51 derece hava için {hava_sicakligi(51)}\")\n",
    "print(f\"17 derece hava için {hava_sicakligi(17)}\")"
   ]
  },
  {
   "cell_type": "code",
   "execution_count": 120,
   "id": "006ca626-dd39-4a71-98db-183f616397c0",
   "metadata": {},
   "outputs": [
    {
     "name": "stdout",
     "output_type": "stream",
     "text": [
      "45 not için FF\n",
      "93 not için AA\n",
      "65 not için CB\n",
      "79 not için BB\n",
      "87 not için BA\n",
      "53 not için CC\n",
      "Girilen not TANIMSIZ\n"
     ]
    }
   ],
   "source": [
    "#91-100 arası aa\n",
    "#81-90 arası ba \n",
    "#71-80 bb\n",
    "#61-70 cb\n",
    "#51-60 cc\n",
    "#50 altı ff\n",
    "\n",
    "ogr_not = lambda puan: \"AA\" if 91 <= puan <= 100 else (\"BA\" if 81 <= puan <= 90 else (\"BB\" if 71 <= puan <= 80 else (\"CB\" if 61 <= puan <= 70 else (\n",
    "    \"CC\" if 51 <= puan <= 60 else (\"FF\" if puan <= 50 else \"TANIMSIZ\")))))\n",
    "        \n",
    "\n",
    "print(f\"45 not için {ogr_not(45)}\")\n",
    "print(f\"93 not için {ogr_not(93)}\")\n",
    "print(f\"65 not için {ogr_not(65)}\")\n",
    "print(f\"79 not için {ogr_not(79)}\")\n",
    "print(f\"87 not için {ogr_not(87)}\")\n",
    "print(f\"53 not için {ogr_not(53)}\")\n",
    "print(f\"Girilen not {ogr_not(101)}\")\n",
    "\n",
    "\n"
   ]
  },
  {
   "cell_type": "code",
   "execution_count": null,
   "id": "88a07a7e-055e-420a-ad6b-6712a8176b84",
   "metadata": {},
   "outputs": [],
   "source": []
  }
 ],
 "metadata": {
  "kernelspec": {
   "display_name": "Python [conda env:base] *",
   "language": "python",
   "name": "conda-base-py"
  },
  "language_info": {
   "codemirror_mode": {
    "name": "ipython",
    "version": 3
   },
   "file_extension": ".py",
   "mimetype": "text/x-python",
   "name": "python",
   "nbconvert_exporter": "python",
   "pygments_lexer": "ipython3",
   "version": "3.12.7"
  }
 },
 "nbformat": 4,
 "nbformat_minor": 5
}
