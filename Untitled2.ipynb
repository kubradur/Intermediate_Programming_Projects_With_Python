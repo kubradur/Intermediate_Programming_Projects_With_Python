{
 "cells": [
  {
   "cell_type": "code",
   "execution_count": 35,
   "id": "7c319b87-39b2-4b8e-853c-9669c2c2efc8",
   "metadata": {},
   "outputs": [
    {
     "name": "stdout",
     "output_type": "stream",
     "text": [
      "[1, 2, 3, 4, 5, 6, 7, 8, 9, 10, 11, 12, 13, 14, 15, 16, 17, 18, 19, 20, 21, 22, 23, 24, 25, 26, 27, 28, 29, 30, 31, 32, 33, 34, 35, 36, 37, 38, 39, 40, 41, 42, 43, 44, 45, 46, 47, 48, 49, 50, 51, 52, 53, 54, 55, 56, 57, 58, 59, 60, 61, 62, 63, 64, 65, 66, 67, 68, 69, 70, 71, 72, 73, 74, 75, 76, 77, 78, 79, 80, 81, 82, 83, 84, 85, 86, 87, 88, 89, 90, 91, 92, 93, 94, 95, 96, 97, 98, 99, 100]\n",
      "--------------------------------------------------\n",
      "[1, 2, 3, 4, 5, 6, 7, 8, 9, 10, 11, 12, 13, 14, 15, 16, 17, 18, 19, 20, 21, 22, 23, 24, 25, 26, 27, 28, 29, 30, 31, 32, 33, 34, 35, 36, 37, 38, 39, 40, 41, 42, 43, 44, 45, 46, 47, 48, 49, 50, 51, 52, 53, 54, 55, 56, 57, 58, 59, 60, 61, 62, 63, 64, 65, 66, 67, 68, 69, 70, 71, 72, 73, 74, 75, 76, 77, 78, 79, 80, 81, 82, 83, 84, 85, 86, 87, 88, 89, 90, 91, 92, 93, 94, 95, 96, 97, 98, 99, 100]\n",
      "**************************************************\n",
      "[5, 10, 15, 20, 25, 30, 35, 40, 45, 50, 55, 60, 65, 70, 75, 80, 85, 90, 95, 100, 105, 110, 115, 120, 125, 130, 135, 140, 145, 150, 155, 160, 165, 170, 175, 180, 185, 190, 195, 200, 205, 210, 215, 220, 225, 230, 235, 240, 245, 250, 255, 260, 265, 270, 275, 280, 285, 290, 295, 300, 305, 310, 315, 320, 325, 330, 335, 340, 345, 350, 355, 360, 365, 370, 375, 380, 385, 390, 395, 400, 405, 410, 415, 420, 425, 430, 435, 440, 445, 450, 455, 460, 465, 470, 475, 480, 485, 490, 495, 500]\n",
      "--------------------------------------------------\n",
      "[5, 10, 15, 20, 25, 30, 35, 40, 45, 50, 55, 60, 65, 70, 75, 80, 85, 90, 95, 100, 105, 110, 115, 120, 125, 130, 135, 140, 145, 150, 155, 160, 165, 170, 175, 180, 185, 190, 195, 200, 205, 210, 215, 220, 225, 230, 235, 240, 245, 250, 255, 260, 265, 270, 275, 280, 285, 290, 295, 300, 305, 310, 315, 320, 325, 330, 335, 340, 345, 350, 355, 360, 365, 370, 375, 380, 385, 390, 395, 400, 405, 410, 415, 420, 425, 430, 435, 440, 445, 450, 455, 460, 465, 470, 475, 480, 485, 490, 495, 500]\n"
     ]
    }
   ],
   "source": [
    "# list comprehension\n",
    "#Normalde diğer programlama dillerin yerleşik veri yapılarının kullanımı Python'a göre oldukça daha fazla kod gerektirir \n",
    "\n",
    "#pythonda 1 den 100 e kadar olan sayıları içeren bir liste tanımlayın\n",
    "#normal kod ile\n",
    "liste=[]\n",
    "for i in range(1,101):\n",
    "    liste.append(i)\n",
    "print(liste)\n",
    "print(\"-\"*50)\n",
    "#list comperession'a göre\n",
    "liste=[i for i in range(1,101)]\n",
    "print(liste)\n",
    "print(\"*\"*50)\n",
    "#1'den 100 e kadar olan her sayıının 5 katını içeren liste \n",
    "#normal kod ile\n",
    "liste=[]\n",
    "for sayi in range(1,101):\n",
    "    liste.append(sayi*5)\n",
    "print (liste)\n",
    "#bir listeye birden fazla eleman eklemek için :\n",
    "#liste.append([i,j])\n",
    "#liste,sözlük,demet,küme,şeklinde eleman alabilir.\n",
    "print(\"-\"*50)\n",
    "#list comperession'a göre\n",
    "liste=[i*5 for i in range(1,101)]\n",
    "print(liste)\n",
    "    "
   ]
  },
  {
   "cell_type": "code",
   "execution_count": 51,
   "id": "9707a2e8-f917-44e0-a85e-cc734f6ce065",
   "metadata": {},
   "outputs": [
    {
     "name": "stdout",
     "output_type": "stream",
     "text": [
      "[1, 3, 5, 7, 9, 11, 13, 15, 17, 19, 21, 23, 25, 27, 29, 31, 33, 35, 37, 39, 41, 43, 45, 47, 49, 51, 53, 55, 57, 59, 61, 63, 65, 67, 69, 71, 73, 75, 77, 79, 81, 83, 85, 87, 89, 91, 93, 95, 97, 99]\n",
      "--------------------------------------------------\n",
      "[1, 3, 5, 7, 9, 11, 13, 15, 17, 19, 21, 23, 25, 27, 29, 31, 33, 35, 37, 39, 41, 43, 45, 47, 49, 51, 53, 55, 57, 59, 61, 63, 65, 67, 69, 71, 73, 75, 77, 79, 81, 83, 85, 87, 89, 91, 93, 95, 97, 99]\n"
     ]
    }
   ],
   "source": [
    "#LC'lerin if ile kullanımları\n",
    "# 1'den 100'e kadar olan tek sayıları tutan\n",
    "#normal kod ile\n",
    "liste=[]\n",
    "for i in range(1,101):\n",
    "    if (i%2 !=0):\n",
    "      liste.append(i)\n",
    "print(liste)\n",
    "print(\"-\"*50)\n",
    "#list comperession'a göre\n",
    "liste=[i for i in range(1,101) if (i%2 !=0)]\n",
    "print(liste)\n",
    "\n",
    "\n",
    "\n",
    "\n",
    "\n",
    "\n"
   ]
  },
  {
   "cell_type": "code",
   "execution_count": 76,
   "id": "b79be114-aede-4e47-9638-07d3318f8df4",
   "metadata": {},
   "outputs": [
    {
     "name": "stdout",
     "output_type": "stream",
     "text": [
      "['6 uygundur', '12 uygundur', '18 uygundur', '30 uygundur', '36 uygundur', '42 uygundur', '54 uygundur', '60 uygundur', '66 uygundur', '78 uygundur', '84 uygundur', '90 uygundur', '102 uygundur', '108 uygundur', '114 uygundur', '126 uygundur', '132 uygundur', '138 uygundur', '150 uygundur', '156 uygundur', '162 uygundur', '174 uygundur', '180 uygundur', '186 uygundur', '198 uygundur', '204 uygundur', '210 uygundur', '222 uygundur', '228 uygundur', '234 uygundur', '246 uygundur', '252 uygundur', '258 uygundur', '270 uygundur', '276 uygundur', '282 uygundur', '294 uygundur', '300 uygundur', '306 uygundur', '318 uygundur', '324 uygundur', '330 uygundur', '342 uygundur', '348 uygundur', '354 uygundur', '366 uygundur', '372 uygundur', '378 uygundur', '390 uygundur', '396 uygundur', '402 uygundur', '414 uygundur', '420 uygundur', '426 uygundur', '438 uygundur', '444 uygundur', '450 uygundur', '462 uygundur', '468 uygundur', '474 uygundur', '486 uygundur', '492 uygundur', '498 uygundur']\n",
      "--------------------------------------------------\n",
      "['Uygundur 6', 'Uygundur 12', 'Uygundur 18', 'Uygundur 30', 'Uygundur 36', 'Uygundur 42', 'Uygundur 54', 'Uygundur 60', 'Uygundur 66', 'Uygundur 78', 'Uygundur 84', 'Uygundur 90', 'Uygundur 102', 'Uygundur 108', 'Uygundur 114', 'Uygundur 126', 'Uygundur 132', 'Uygundur 138', 'Uygundur 150', 'Uygundur 156', 'Uygundur 162', 'Uygundur 174', 'Uygundur 180', 'Uygundur 186', 'Uygundur 198', 'Uygundur 204', 'Uygundur 210', 'Uygundur 222', 'Uygundur 228', 'Uygundur 234', 'Uygundur 246', 'Uygundur 252', 'Uygundur 258', 'Uygundur 270', 'Uygundur 276', 'Uygundur 282', 'Uygundur 294', 'Uygundur 300', 'Uygundur 306', 'Uygundur 318', 'Uygundur 324', 'Uygundur 330', 'Uygundur 342', 'Uygundur 348', 'Uygundur 354', 'Uygundur 366', 'Uygundur 372', 'Uygundur 378', 'Uygundur 390', 'Uygundur 396', 'Uygundur 402', 'Uygundur 414', 'Uygundur 420', 'Uygundur 426', 'Uygundur 438', 'Uygundur 444', 'Uygundur 450', 'Uygundur 462', 'Uygundur 468', 'Uygundur 474', 'Uygundur 486', 'Uygundur 492', 'Uygundur 498']\n"
     ]
    }
   ],
   "source": [
    "#1 ile 500 arasında (dahil) 2 ve 6 ya tam bölünen ama 8 e tam bölünmeyen sayılar için uygundur değeri için \"uygundur\" yazınız#\n",
    "#normal kod ile\n",
    "liste=[]\n",
    "for i in range(1,501):\n",
    "    if (i%2==0)and (i%6==0)and (i%8!=0):\n",
    "        liste.append(f\"{i} uygundur\")\n",
    "print(liste)   \n",
    "print(\"-\"*50)\n",
    "#list comperession'a göre\n",
    "liste=[f\"Uygundur {i}\" for i in range (1,501) if (i%2==0) and (i%6==0) and (i%8 != 0)]\n",
    "print(liste)\n",
    "\n"
   ]
  },
  {
   "cell_type": "code",
   "execution_count": 78,
   "id": "3ffcbfbe-0b4a-4941-ab21-8d0e4797a5c4",
   "metadata": {},
   "outputs": [
    {
     "name": "stdout",
     "output_type": "stream",
     "text": [
      "--------------------------------------------------\n",
      "['tek', 'Çift', 'tek', 'Çift', 'tek', 'Çift', 'tek', 'Çift', 'tek', 'Çift']\n"
     ]
    }
   ],
   "source": [
    "#LC ile if-else kullanımı\n",
    "#formül:[değişken if şartı değişken else for değişken]\n",
    "\n",
    "#1'den 10'a kadar (dahil) olan tek sayılar için tek yazan Çift sayılar için Çift yazan liste\n",
    "#normal kod ile\n",
    "\n",
    "\n",
    "print(\"-\"*50)\n",
    "#list comperession'a göre\n",
    "my_list=[\"tek\" if x%2!=0 else \"Çift\" for x in range(1,11)]\n",
    "print(my_list)"
   ]
  },
  {
   "cell_type": "code",
   "execution_count": 92,
   "id": "c8fd792a-4123-4f6b-bc45-9cf9e4ce5c18",
   "metadata": {},
   "outputs": [
    {
     "name": "stdout",
     "output_type": "stream",
     "text": [
      "['BURDUR', 'MEHMET', 'AKİF', 'ERSOY', 'ÜNİVERSİTESİ', 'YBS', 'ZTYO']\n",
      "['BURDUR', 'MEHMET', 'AKİF', 'ERSOY', 'ÜNİVERSİTESİ', 'YBS', 'ZTYO']\n"
     ]
    }
   ],
   "source": [
    "gecici_liste=[\"Burdur\",\"Mehmet\",\"Akif\",\"Ersoy\",\"Üniversitesi\",\"YBS\",\"ZTYO\"]\n",
    "#bu listedeki tüm elemanların tamamını büyük harfle yazıp yeni bir listeye ekleyen kodu yaz9ınız\n",
    "#normal kod ile\n",
    "kalici_liste=[]\n",
    "for deger in gecici_liste:\n",
    "    kalici_liste.append(deger.upper().replace(\"I\",\"İ\"))\n",
    "print(kalici_liste) \n",
    "#list comperession'a göre\n",
    "kalici_liste=[x.upper().replace(\"I\",\"İ\") for x in gecici_liste]\n",
    "print(kalici_liste)\n",
    "\n",
    "\n"
   ]
  },
  {
   "cell_type": "code",
   "execution_count": 114,
   "id": "f51353e6-c3a3-45e7-b318-7d1f62eeccd5",
   "metadata": {},
   "outputs": [
    {
     "name": "stdout",
     "output_type": "stream",
     "text": [
      "[-1, 4, -3, 16, -5, 36, -7, 64, -9, 100, -11, 144, -13, 196, -15, 256, -17, 324, -19, 400, -21, 484, -23, 576, -25, 676, -27, 784, -29, 900, -31, 1024, -33, 1156, -35, 1296, -37, 1444, -39, 1600, -41, 1764, -43, 1936, -45, 2116, -47, 2304, -49, 2500, -51, 2704, -53, 2916, -55, 3136, -57, 3364, -59, 3600, -61, 3844, -63, 4096, -65, 4356, -67, 4624, -69, 4900, -71, 5184, -73, 5476, -75, 5776, -77, 6084, -79, 6400, -81, 6724, -83, 7056, -85, 7396, -87, 7744, -89, 8100, -91, 8464, -93, 8836, -95, 9216, -97, 9604, -99, 10000]\n",
      "[-1, 4, -3, 16, -5, 36, -7, 64, -9, 100, -11, 144, -13, 196, -15, 256, -17, 324, -19, 400, -21, 484, -23, 576, -25, 676, -27, 784, -29, 900, -31, 1024, -33, 1156, -35, 1296, -37, 1444, -39, 1600, -41, 1764, -43, 1936, -45, 2116, -47, 2304, -49, 2500, -51, 2704, -53, 2916, -55, 3136, -57, 3364, -59, 3600, -61, 3844, -63, 4096, -65, 4356, -67, 4624, -69, 4900, -71, 5184, -73, 5476, -75, 5776, -77, 6084, -79, 6400, -81, 6724, -83, 7056, -85, 7396, -87, 7744, -89, 8100, -91, 8464, -93, 8836, -95, 9216, -97, 9604, -99, 10000]\n"
     ]
    }
   ],
   "source": [
    "#1 ile 100 arasındaki tek sayıların negatif halini çift sayıların karesini tutan listeyi yazınız.\n",
    "liste=[]\n",
    "for i in range(1,101):\n",
    "    if (i%2==0):\n",
    "        liste.append(i**2)\n",
    "    else:\n",
    "        liste.append(-i)\n",
    "print(liste)\n",
    "#list comperession'a göre\n",
    "liste=[i**2 if (i%2==0) else -i  for i in range(1,101)]\n",
    "print(liste)\n",
    "        \n",
    "        \n"
   ]
  },
  {
   "cell_type": "code",
   "execution_count": 146,
   "id": "2645029e-73b0-4c5a-b03b-6f3f6b611a8d",
   "metadata": {},
   "outputs": [
    {
     "name": "stdout",
     "output_type": "stream",
     "text": [
      "i= 1 j= 6 iken i*j = 6\n",
      "i= 1 j= 7 iken i*j = 7\n",
      "i= 1 j= 8 iken i*j = 8\n",
      "i= 1 j= 9 iken i*j = 9\n",
      "i= 1 j= 10 iken i*j = 10\n",
      "i= 2 j= 6 iken i*j = 12\n",
      "i= 2 j= 7 iken i*j = 14\n",
      "i= 2 j= 8 iken i*j = 16\n",
      "i= 2 j= 9 iken i*j = 18\n",
      "i= 2 j= 10 iken i*j = 20\n",
      "i= 3 j= 6 iken i*j = 18\n",
      "i= 3 j= 7 iken i*j = 21\n",
      "i= 3 j= 8 iken i*j = 24\n",
      "i= 3 j= 9 iken i*j = 27\n",
      "i= 3 j= 10 iken i*j = 30\n",
      "i= 4 j= 6 iken i*j = 24\n",
      "i= 4 j= 7 iken i*j = 28\n",
      "i= 4 j= 8 iken i*j = 32\n",
      "i= 4 j= 9 iken i*j = 36\n",
      "i= 4 j= 10 iken i*j = 40\n",
      "i= 5 j= 6 iken i*j = 30\n",
      "i= 5 j= 7 iken i*j = 35\n",
      "i= 5 j= 8 iken i*j = 40\n",
      "i= 5 j= 9 iken i*j = 45\n",
      "i= 5 j= 10 iken i*j = 50\n",
      "[6, 7, 8, 9, 10, 12, 14, 16, 18, 20, 18, 21, 24, 27, 30, 24, 28, 32, 36, 40, 30, 35, 40, 45, 50]\n",
      "[6, 7, 8, 9, 12, 14, 16, 18, 18, 21, 24, 27, 24, 28, 32, 36, 30, 35, 40, 45]\n"
     ]
    }
   ],
   "source": [
    "#iç içe for kullanımı\n",
    "\n",
    "#dış döngü 1'den 5'e kadar (dahil)\n",
    "#iç döngü 6'dan 10'a kadar (dahil) olmak üzere tüm sayıların çarpım sonucunu tutan liste\n",
    "\n",
    "#normal kod ile\n",
    "my_list=[]\n",
    "for i in range(1,6):\n",
    "    for j in range(6,11):\n",
    "        my_list.append(i*j)\n",
    "        print(f\"i= {i} j= {j} iken i*j = {i*j}\")\n",
    "print(my_list) \n",
    "\n",
    "my_list=[x*y for x in range(1,6) for y in range(6,10)]\n",
    "print(my_list)\n",
    "        \n",
    "        "
   ]
  },
  {
   "cell_type": "code",
   "execution_count": 132,
   "id": "56f3cd85-f8fe-4c94-9e8e-03fe4f10936d",
   "metadata": {},
   "outputs": [
    {
     "name": "stdout",
     "output_type": "stream",
     "text": [
      "[7, 9, 21, 27, 35, 45]\n"
     ]
    }
   ],
   "source": [
    "#dış döngü 1'den 5'e kadar (dahil)\n",
    "#iç döngü 6'dan 10'a kadar (dahil) olmak üzere tüm sayıların çarpım sonucunu tek ise sonucu tutan liste\n",
    "\n",
    "my_list=[x*y for x in range(1,6) for y in range(6,10) if ((x*y)%2 !=0)]\n",
    "print(my_list)"
   ]
  },
  {
   "cell_type": "code",
   "execution_count": 152,
   "id": "f0b5ddb8-a41b-4262-86cb-e22918468c2b",
   "metadata": {},
   "outputs": [
    {
     "name": "stdout",
     "output_type": "stream",
     "text": [
      "[27, 35, 45]\n"
     ]
    }
   ],
   "source": [
    "#yukarıdaki sonuçlar içerisinde sadece 21'den büyük 45'den küçük veya eşit olan sonuçları tutan listeyi LC ile yazınız.\n",
    "my_list=[x*y for x in range(1,6) for y in range(6,10) if ((x*y)%2 !=0) and (x*y)>21 and (x*y)<=45 ]\n",
    "print(my_list)"
   ]
  },
  {
   "cell_type": "code",
   "execution_count": 164,
   "id": "1b35ba34-5a86-49d4-8ff2-b096e7ee59df",
   "metadata": {},
   "outputs": [
    {
     "name": "stdout",
     "output_type": "stream",
     "text": [
      "['kübra', 'canan']\n"
     ]
    }
   ],
   "source": [
    "#dictionary veri yapısı key:value şeklinde çalışan tek veri tipidir.\n",
    "my_notes={\"kübra\":100,\"ahmet\":50,\"semih\":44,\"canan\":75}\n",
    "#notları 50 den büyük olan öğrencilerin isimlerini getiren lc kodu\n",
    "#my_note.key() anahtarları getirir \n",
    "#my_note.values()değerleri getirir\n",
    "#my_note.items() tüm deperş getirir\n",
    "\n",
    "ogr_not=[anahtar for anahtar,deger in my_notes.items() if deger>50 ]\n",
    "print(ogr_not)"
   ]
  },
  {
   "cell_type": "code",
   "execution_count": null,
   "id": "aef5402d-4108-408b-acae-8443dc9623e1",
   "metadata": {},
   "outputs": [],
   "source": []
  }
 ],
 "metadata": {
  "kernelspec": {
   "display_name": "Python [conda env:base] *",
   "language": "python",
   "name": "conda-base-py"
  },
  "language_info": {
   "codemirror_mode": {
    "name": "ipython",
    "version": 3
   },
   "file_extension": ".py",
   "mimetype": "text/x-python",
   "name": "python",
   "nbconvert_exporter": "python",
   "pygments_lexer": "ipython3",
   "version": "3.12.7"
  }
 },
 "nbformat": 4,
 "nbformat_minor": 5
}
