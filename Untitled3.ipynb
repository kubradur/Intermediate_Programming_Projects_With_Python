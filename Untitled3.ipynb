{
 "cells": [
  {
   "cell_type": "code",
   "execution_count": 12,
   "id": "08fd41cc-acc2-4067-8c27-d2df6302aad1",
   "metadata": {},
   "outputs": [
    {
     "name": "stdout",
     "output_type": "stream",
     "text": [
      "x = 1: f(x) = 7\n",
      "x = 3: f(x) = 15\n",
      "x = 5: f(x) = 23\n",
      "x = 7: f(x) = 31\n",
      "x = 9: f(x) = 39\n"
     ]
    }
   ],
   "source": [
    "#Fonksiyonlar\n",
    "#programlamadaki kullanımı matematikteki kullanımıyla aynıdır.\n",
    "#Parametreler,işlemler,değer aralıkları,sonuç döndürme\n",
    "#yukarıdakiler bir fonksiyonun en temel bileşenleridir.(sonuç döndürme,parametre kabul etme olmasa da olabilir.)\n",
    "\n",
    "# 1 sayısının 4 katının 3 fazlası \n",
    "# 3 sayısının 4 katının 3 fazlası \n",
    "# 5 sayısının 4 katının 3 fazlası \n",
    "# 7 sayısının 4 katının 3 fazlası \n",
    "# 9 sayısının 4 katının 3 fazlası \n",
    "\n",
    "#x € Z+ [1,9] x+2 olmak üzere f(x) = 4*x+3\n",
    "def f(x):\n",
    "    return (4*x)+3\n",
    "\n",
    "for x in range (1,10,2):\n",
    "    print(f\"x = {x}: f(x) = {f(x)}\")\n",
    "    "
   ]
  },
  {
   "cell_type": "code",
   "execution_count": 2,
   "id": "62a65271-1a54-44c0-a390-b92cefa6ef82",
   "metadata": {},
   "outputs": [
    {
     "name": "stdout",
     "output_type": "stream",
     "text": [
      "Merhaba BTK Akademi\n",
      "Merhaba BTK Akademi\n",
      "Merhaba BTK Akademi\n",
      "Merhaba BTK Akademi\n",
      "Merhaba BTK Akademi\n",
      "Merhaba BTK Akademi\n",
      "Merhaba BTK Akademi\n",
      "Merhaba BTK Akademi\n",
      "Merhaba BTK Akademi\n",
      "--------------------------------------------------\n",
      "2025\n",
      "--------------------------------------------------\n",
      "24\n",
      "--------------------------------------------------\n",
      "4\n",
      "--------------------------------------------------\n",
      "Günaydın\n"
     ]
    }
   ],
   "source": [
    "def selamlama():\n",
    "    for i in range(1,10):\n",
    "        print(\"Merhaba BTK Akademi\")\n",
    "selamlama()\n",
    "print(\"-\"*50)\n",
    "def yil():\n",
    "    import datetime\n",
    "    return datetime.datetime.now().year\n",
    "print(yil())\n",
    "print(\"-\"*50)\n",
    "def yas_hesapla():\n",
    "    return 2024-2000\n",
    "print(yas_hesapla())\n",
    "print(\"-\"*50)\n",
    "def saat():\n",
    "    import datetime\n",
    "    return datetime.datetime.now().hour\n",
    "print(saat())\n",
    "print(\"-\"*50)\n",
    "def selamla():\n",
    "    if (saat()<12):\n",
    "        return \"Günaydın\"\n",
    "    else:\n",
    "        return \"Merhaba\"\n",
    "print(selamla())\n",
    "\n"
   ]
  },
  {
   "cell_type": "code",
   "execution_count": 104,
   "id": "6ca87ec9-1820-49f2-97f7-306f928ba163",
   "metadata": {},
   "outputs": [
    {
     "name": "stdout",
     "output_type": "stream",
     "text": [
      "merhaba merhaba merhaba merhaba merhaba \n",
      "Kübra\n",
      "Kübra\n",
      "Kübra\n",
      "Kübra\n",
      "--------------------------------------------------\n",
      "alan 150,cevre 50\n",
      "--------------------------------------------------\n",
      "YAZI\n",
      "--------------------------------------------------\n",
      "2\n",
      "3\n",
      "5\n",
      "7\n",
      "11\n",
      "13\n",
      "--------------------------------------------------\n",
      "[1, 2, 3, 5, 6, 10, 15, 25, 30, 50, 75, 150]\n",
      "[1, 2, 3, 4, 6, 12]\n"
     ]
    }
   ],
   "source": [
    "# kendisine gönderilen bir kelimeyi belirtilen kez ekranda gösteren fonksiyonu yazınız.\n",
    "def yazdir(text,adet):\n",
    "    return text*adet\n",
    "#farklı bir kod\n",
    "print(yazdir(\"merhaba \",5))\n",
    "def kelimeyi_tekrarla(kelime):\n",
    "    for i in range(1,5):\n",
    "        print(kelime)  \n",
    "kelimeyi_tekrarla(\"Kübra\")  \n",
    "\n",
    "print(\"-\"*50)\n",
    "#Dikdörtgenin alan ve çevresini hesaplayan fonksiyonu yazınız.\n",
    "#Alan=uzun kenar*kısa kenar\n",
    "#Çevre=2*(uzun kenar +kısa kenar)\n",
    "def hesapla(uK:int,kK:int):\n",
    "    alan=uK*kK\n",
    "    cevre= 2*(uK+kK)\n",
    "    return f\"alan {alan},cevre {cevre}\"\n",
    "print(hesapla(10,15))\n",
    "\n",
    "print(\"-\"*50)\n",
    "#Yazı tura uygulamasını fonksiyon kullanarak yapınız.(random modülü)\n",
    "def yazi_mi_tura_mi():\n",
    "    import random\n",
    "    sayi=random.random()\n",
    "    if sayi>0.5:\n",
    "        return \"TURA\"\n",
    "    else:\n",
    "        return \"YAZI\"\n",
    "sonuc= yazi_mi_tura_mi()  \n",
    "print(sonuc)\n",
    "\n",
    "print(\"-\"*50)\n",
    "# Kendisine gönderilen 2 sayı arasındaki tüm asal sayıları bulan fonksiyonu yazınız.\n",
    "def sayilar(sayi1,sayi2):\n",
    "    for sayi in range(sayi1,sayi2+1):\n",
    "        if (sayi>1):\n",
    "            for i in range(2,sayi):\n",
    "                if (sayi%i==0):\n",
    "                    break\n",
    "            else:\n",
    "                 print(sayi)\n",
    "sayilar(1,15)\n",
    "\n",
    "print(\"-\"*50)\n",
    "#kendisine gönderilen bir sayının tam bölenlerini bir liste şeklinde döndüren fonksiyonu yazınız.\n",
    "def tam_bolen(sayi:int):\n",
    "    tamBolenListe=[]\n",
    "    for i in range(sayi):\n",
    "        i+=1\n",
    "        if sayi%i==0:\n",
    "            tamBolenListe.append(i)\n",
    "    return tamBolenListe\n",
    "print(tam_bolen(150))\n",
    "print(tam_bolen(12))\n"
   ]
  },
  {
   "cell_type": "code",
   "execution_count": 2,
   "id": "559a9978-3f73-4d6c-aabd-c55e062f1d4e",
   "metadata": {},
   "outputs": [
    {
     "name": "stdout",
     "output_type": "stream",
     "text": [
      "GEÇTİNİZ\n",
      "None\n"
     ]
    }
   ],
   "source": [
    "#fonksiyonlar 4 farklı şekilde çalıştırılabilir.\n",
    "#parametreli,parametresiz,değer döndüren,değer döndüremeyen,\n",
    "#kod yazarken gerçek dünyada en sık karşılaşılan fonksiyon türleri\n",
    "#parametreli fonksiyonlarda tanımlama şöyledir:\n",
    "#fonksiyon_adı(parametre1,parametre2...parametre_n)\n",
    "#değer döndüren fonksiyonlar da mutlaka ama mutlaka return anahtar kelimesiyle bitirilir. Bu ifade biir nevi \"exit\" anlamı taşır.\n",
    "\n",
    "#vize ve final notunu parametre olarak alan ve vizenin %40'ı Finalin %60'ının toplamı 50'den büyükse GEÇTİNİZ yazan\n",
    "#değilse KALDINIZ yazan fonksiyon(geriye değer döndürmeyen)\n",
    "\n",
    "#NOT: eğer istenirse daha parametre tanımla aşamasında parametrelerin tipleri de belirtilebilir. Hatta bu yaklaşım daha iyi olacaktır. \n",
    "#Hem  kod okuuma açısından hem de o tip 'in getirdiği tüm özellikleri daha en başta kullanım açısından\n",
    "\n",
    "def notlar_non_return(vize:int,final:int):\n",
    "    son_not=(vize*0.4)+(final*0.6)\n",
    "    if (son_not>=50):\n",
    "        print(\"GEÇTİNİZ\")\n",
    "    else:\n",
    "        print(\"KALDINIZ\")\n",
    "\n",
    "gecici_non_return=notlar_non_return(40,60)\n",
    "print(gecici_non_return)\n",
    "        "
   ]
  },
  {
   "cell_type": "code",
   "execution_count": 122,
   "id": "037fe7fd-1616-4860-befe-92e489547ca5",
   "metadata": {},
   "outputs": [
    {
     "name": "stdout",
     "output_type": "stream",
     "text": [
      "GEÇTİNİZ! Notunuz: 76.0\n"
     ]
    }
   ],
   "source": [
    "#geriye değer döndüren fonksiyon\n",
    "\n",
    "def notlar_return(vize: int, final: int):\n",
    "    son_not = (vize * 0.4) + (final * 0.6)  # Vize %40, Final %60\n",
    "    return son_not  # Sonucu döndür\n",
    "if sonuc >= 50:\n",
    "    print(f\"GEÇTİNİZ! Notunuz: {sonuc}\")\n",
    "else:\n",
    "    print(f\"KALDINIZ! Notunuz: {sonuc}\")\n",
    "sonuc = notlar_return(70, 80)\n"
   ]
  },
  {
   "cell_type": "code",
   "execution_count": 124,
   "id": "369cbe55-9399-429b-b6ff-79628657314a",
   "metadata": {},
   "outputs": [
    {
     "name": "stdout",
     "output_type": "stream",
     "text": [
      "TEK\n"
     ]
    }
   ],
   "source": [
    "#geriye değer döndüren int temelli fonksiyon \n",
    "#paramtere olarak bir sayı alan ve bu sayının tek mi çift mi olduğunu yazdıran fonksiyon \n",
    "\n",
    "def tek_mi_cift_mi(number:int):\n",
    "    if number%2==0:\n",
    "        return \"ÇİFT\"\n",
    "    else:\n",
    "        return \"TEK\"\n",
    "\n",
    "sonuc_1= tek_mi_cift_mi(15)\n",
    "print(sonuc_1)"
   ]
  },
  {
   "cell_type": "code",
   "execution_count": 126,
   "id": "68241a7b-a81f-4bce-9564-42d0e9f81d6f",
   "metadata": {},
   "outputs": [
    {
     "name": "stdout",
     "output_type": "stream",
     "text": [
      "40\n",
      "-155\n"
     ]
    }
   ],
   "source": [
    "\n",
    "#parametre olarak girilen iki sayının toplamı return eden fonksiiyonu yazınız.\n",
    "def topla(sayi1:int,sayi2:int):\n",
    "    toplam=sayi1+sayi2\n",
    "    return toplam\n",
    "toplam_1= topla(12,28)\n",
    "print(toplam_1)\n",
    "\n",
    "# eğer fonksşyondan dönen sonuç tek ise bu sonucun başka bir fonksiyonla karesini hesaplayınıp geriye döndürün \n",
    "# eğer çift ise yine başka bir fonksiyonla -4 katının 5 fazlasını hesaplayıp geri döndürün \n",
    "\n",
    "def cift_ise(par_cift:int):\n",
    "    return (par_cift*-4)+5\n",
    "\n",
    "def tek_ise(par_tek:int):\n",
    "    return par_tek**2\n",
    "\n",
    "if toplam_1%2!=0:  #sonucum tek ise\n",
    "  print(tek_ise(toplam_1))\n",
    "else:  #sonucum çift ise aşağıdaki fonksiyon benim sonuç parametremle çalışır \n",
    "    print(cift_ise(toplam_1))\n",
    "\n"
   ]
  },
  {
   "cell_type": "code",
   "execution_count": 128,
   "id": "d3b90cc5-9f6c-4dac-bb54-b2119189812d",
   "metadata": {},
   "outputs": [
    {
     "name": "stdout",
     "output_type": "stream",
     "text": [
      "Tek sayıların listesi = [1, 3, 5, 7, 9, 11, 13, 15, 17, 19, 21, 23, 25, 27, 29, 31, 33, 35, 37, 39, 41, 43, 45, 47, 49, 51, 53, 55, 57, 59, 61, 63, 65, 67, 69, 71, 73, 75, 77, 79, 81, 83, 85, 87, 89, 91, 93, 95, 97, 99]\n",
      "Çift sayıların listesi = [0, 2, 4, 6, 8, 10, 12, 14, 16, 18, 20, 22, 24, 26, 28, 30, 32, 34, 36, 38, 40, 42, 44, 46, 48, 50, 52, 54, 56, 58, 60, 62, 64, 66, 68, 70, 72, 74, 76, 78, 80, 82, 84, 86, 88, 90, 92, 94, 96, 98, 100]\n"
     ]
    }
   ],
   "source": [
    "#dışarıdan parametre olarak bir numara listesi alan bu listedeki tek elemanları yeni bir listeye \n",
    "#çift elemanları yenş başka bir listeye ekleyip return olarak bbu iki listeyi döndüren fonksiyon\n",
    "\n",
    "# 0'dan 100'e kadar olan sayılar listesi\n",
    "my_num_list = [x for x in range(0, 101)]\n",
    "\n",
    "# Tek ve çift sayıları ayıran fonksiyon\n",
    "def list_tek_cift(gecici_liste:list):\n",
    "    my_tek_list, my_cift_list = [], []  # Boş listeler oluşturuluyor\n",
    "\n",
    "    for deger in gecici_liste:\n",
    "        if deger % 2 == 0:\n",
    "            my_cift_list.append(deger)  # Çift sayıları ekle\n",
    "        else:\n",
    "            my_tek_list.append(deger)  # Tek sayıları ekle\n",
    "    return my_tek_list, my_cift_list  # Fonksiyonun sonunda return edilmeli!\n",
    "\n",
    "# Fonksiyonu çağır ve sonucu al\n",
    "tek_sayilar, cift_sayilar = list_tek_cift(my_num_list)\n",
    "\n",
    "# Çıktıyı ekrana yazdır\n",
    "print(f\"Tek sayıların listesi = {tek_sayilar}\")\n",
    "print(f\"Çift sayıların listesi = {cift_sayilar}\")\n"
   ]
  },
  {
   "cell_type": "code",
   "execution_count": 38,
   "id": "bfa636ec-d2e1-45ee-a13b-fae47057f838",
   "metadata": {},
   "outputs": [
    {
     "name": "stdout",
     "output_type": "stream",
     "text": [
      "2'ye tam bölünen sayılar = [2, 4, 6, 8, 10, 12, 14, 16, 18, 20, 22, 24, 26, 28, 30, 32, 34, 36, 38, 40, 42, 44, 46, 48, 50, 52, 54, 56, 58, 60, 62, 64, 66, 68, 70, 72, 74, 76, 78, 80, 82, 84, 86, 88, 90, 92, 94, 96, 98, 100]\n",
      "3'e tam bölünen sayılar = [3, 6, 9, 12, 15, 18, 21, 24, 27, 30, 33, 36, 39, 42, 45, 48, 51, 54, 57, 60, 63, 66, 69, 72, 75, 78, 81, 84, 87, 90, 93, 96, 99]\n",
      "4'e tam bölünen sayılar = [4, 8, 12, 16, 20, 24, 28, 32, 36, 40, 44, 48, 52, 56, 60, 64, 68, 72, 76, 80, 84, 88, 92, 96, 100]\n",
      "5'e tam bölünen sayılar = [5, 10, 15, 20, 25, 30, 35, 40, 45, 50, 55, 60, 65, 70, 75, 80, 85, 90, 95, 100]\n"
     ]
    }
   ],
   "source": [
    "#dışarıdan alınan 1'den 100'e kadar bölünen bir listedeki \n",
    "# 2-3-4 ve 5'e tam bölünenn sayıları farklı listelere ekleyip bu dört listeyi return eden fonksiyon \n",
    "\n",
    "yeni_liste = [x for x in range(1, 101)]\n",
    "\n",
    "# Tam bölünebilen sayıları ayıran fonksiyon\n",
    "def tam_bol_sayilar(gecici_list: list):\n",
    "    ikiye_bol_list, uce_bol_list, dort_bol_list, bes_bol_list = [], [], [], []\n",
    "\n",
    "    for degisken in gecici_list:\n",
    "        if degisken % 2 == 0:\n",
    "            ikiye_bol_list.append(degisken)\n",
    "        if degisken % 3 == 0:\n",
    "            uce_bol_list.append(degisken)\n",
    "        if degisken % 4 == 0:\n",
    "            dort_bol_list.append(degisken)\n",
    "        if degisken % 5 == 0:\n",
    "            bes_bol_list.append(degisken)  \n",
    "\n",
    "    return ikiye_bol_list, uce_bol_list, dort_bol_list, bes_bol_list  # return ifadesi for'un dışında olmalı!\n",
    "\n",
    "# Fonksiyonu çağır ve sonucu al\n",
    "liste_2, liste_3, liste_4, liste_5 = tam_bol_sayilar(yeni_liste)\n",
    "\n",
    "# Çıktıyı ekrana yazdır\n",
    "print(f\"2'ye tam bölünen sayılar = {liste_2}\")\n",
    "print(f\"3'e tam bölünen sayılar = {liste_3}\")\n",
    "print(f\"4'e tam bölünen sayılar = {liste_4}\")\n",
    "print(f\"5'e tam bölünen sayılar = {liste_5}\")"
   ]
  },
  {
   "cell_type": "code",
   "execution_count": 63,
   "id": "60c2809c-f43d-4fdc-b510-532486fc546d",
   "metadata": {},
   "outputs": [
    {
     "name": "stdout",
     "output_type": "stream",
     "text": [
      "Listedeki elemanların 2 katı= [2, 4, 6, 8, 10, 12, 14, 16, 18, 20]\n",
      "Listedeki elemanların karesi= [1, 4, 9, 16, 25, 36, 49, 64, 81, 100]\n"
     ]
    }
   ],
   "source": [
    "#dışarıdan parametre alarak girilen bir listedeki tüm sayıların karesini başka bir listeye\n",
    "#iki katını başkka bir listeye ekleyip döndüren fonksiyon yazınız\n",
    "\n",
    "my_list_3=[x for x in range(1,11)]\n",
    "\n",
    "def mat_islem(gecici_list_4:list):\n",
    "    \n",
    "    liste_iki_kati,liste_karesi=[],[]\n",
    "    \n",
    "    for i in gecici_list_4:\n",
    "        \n",
    "        liste_iki_kati.append(2*i)\n",
    "        liste_karesi.append(i**2)\n",
    "    \n",
    "    return liste_iki_kati,liste_karesi\n",
    "\n",
    "my_list_iki_kati,my_list_karesi=mat_islem(my_list_3)\n",
    "print(f\"Listedeki elemanların 2 katı= {my_list_iki_kati}\")\n",
    "print(f\"Listedeki elemanların karesi= {my_list_karesi}\")\n"
   ]
  },
  {
   "cell_type": "code",
   "execution_count": 67,
   "id": "9282241a-b138-459a-a929-29dc26e124f6",
   "metadata": {},
   "outputs": [
    {
     "name": "stdout",
     "output_type": "stream",
     "text": [
      "orijinal liste= ['ses', 'kelek', 'tuz', 'şeker', 'kek', 'süt', 'kabak']\n",
      "Aynı liste=['ses', 'kelek', 'kek', 'kabak']\n"
     ]
    }
   ],
   "source": [
    "my_list_4=[\"ses\",\"kelek\",\"tuz\",\"şeker\",\"kek\",\"süt\",\"kabak\"]\n",
    "#yukarıda verilen listeyi parametre olarak alan ve bu listedeki baştan ve tersten yazılışı\n",
    "#aynı olan kelimeleri bulup bunları yeni bir listeye ekleyip döndüren fonksiyonu \n",
    "def yaz_ayni(gecici_list_5:list):\n",
    "    liste_ayni_yaz=[]\n",
    "    for kelime in gecici_list_5:\n",
    "        if kelime==kelime[::-1]:\n",
    "            liste_ayni_yaz.append(kelime)\n",
    "    return liste_ayni_yaz\n",
    "my_result_5=yaz_ayni(my_list_4)\n",
    "print(f\"orijinal liste= {my_list_4}\")\n",
    "print(f\"Aynı liste={my_result_5}\")\n"
   ]
  },
  {
   "cell_type": "code",
   "execution_count": 2,
   "id": "ff8be139-0b90-4dda-b829-71d3b3003e46",
   "metadata": {},
   "outputs": [
    {
     "name": "stdout",
     "output_type": "stream",
     "text": [
      "Orijinal liste = ['BURDUR', 'Mehmet', 'akif', 'ERSOY', 'üniversitesi']\n",
      "Büyük harfli kelimeler = ['BURDUR', 'ERSOY']\n"
     ]
    }
   ],
   "source": [
    "my_list_6 = [\"BURDUR\", \"Mehmet\", \"akif\", \"ERSOY\", \"üniversitesi\"]\n",
    "\n",
    "# Büyük harfli kelimeleri ayıran fonksiyon\n",
    "def buyuk_harf(gecici_liste_6: list):\n",
    "    liste_buyuk_harf = []\n",
    "    for kelime in gecici_liste_6:  # Değişken ismi düzeltildi\n",
    "        if kelime == kelime.upper():\n",
    "            liste_buyuk_harf.append(kelime)\n",
    "    return liste_buyuk_harf\n",
    "\n",
    "# Fonksiyon çağrısı\n",
    "my_result_6 = buyuk_harf(my_list_6)\n",
    "\n",
    "# Sonuçları yazdırma\n",
    "print(f\"Orijinal liste = {my_list_6}\")\n",
    "print(f\"Büyük harfli kelimeler = {my_result_6}\")"
   ]
  },
  {
   "cell_type": "code",
   "execution_count": 4,
   "id": "176fadc9-f295-4edc-9a99-b882e2b91309",
   "metadata": {},
   "outputs": [
    {
     "name": "stdout",
     "output_type": "stream",
     "text": [
      "Orijinal maaşlar: {'ali': 22000, 'mehmet': 13000, 'aytaç': 100000, 'serhat': 25000, 'emre': 75000}\n",
      "Yeni maaşlar: {'ali': 33000.0, 'mehmet': 19500.0, 'aytaç': 130000.0, 'serhat': 32500.0, 'emre': 97500.0}\n"
     ]
    }
   ],
   "source": [
    "deneme_1 = {\"ali\": 22000, \"mehmet\": 13000, \"aytaç\": 100000, \"serhat\": 25000, \"emre\": 75000}\n",
    "\n",
    "# Maaşları belirlenen zam oranlarına göre güncelleyen fonksiyon\n",
    "def zam_yap(gecici_sozluk: dict):\n",
    "    zamli_maaslar = {}\n",
    "    for kisi, maas in gecici_sozluk.items():\n",
    "        if maas >= 25000:\n",
    "            zamli_maaslar[kisi] = maas + (maas * 0.3)\n",
    "        else:\n",
    "            zamli_maaslar[kisi] = maas + (maas * 0.5)\n",
    "    return zamli_maaslar\n",
    "\n",
    "# Fonksiyon çağrısı\n",
    "yeni_maaslar = zam_yap(deneme_1)\n",
    "\n",
    "# Sonuçları yazdırma\n",
    "print(f\"Orijinal maaşlar: {deneme_1}\")\n",
    "print(f\"Yeni maaşlar: {yeni_maaslar}\")\n",
    "            \n",
    "        "
   ]
  }
 ],
 "metadata": {
  "kernelspec": {
   "display_name": "Python [conda env:base] *",
   "language": "python",
   "name": "conda-base-py"
  },
  "language_info": {
   "codemirror_mode": {
    "name": "ipython",
    "version": 3
   },
   "file_extension": ".py",
   "mimetype": "text/x-python",
   "name": "python",
   "nbconvert_exporter": "python",
   "pygments_lexer": "ipython3",
   "version": "3.12.7"
  }
 },
 "nbformat": 4,
 "nbformat_minor": 5
}
