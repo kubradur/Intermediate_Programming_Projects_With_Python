{
 "cells": [
  {
   "cell_type": "code",
   "execution_count": 19,
   "id": "be477147-63bb-446b-b390-43051eabeb97",
   "metadata": {},
   "outputs": [
    {
     "name": "stdout",
     "output_type": "stream",
     "text": [
      "3\n",
      "6\n",
      "9\n",
      "12\n",
      "15\n",
      "18\n",
      "21\n",
      "24\n",
      "27\n",
      "30\n",
      "33\n",
      "36\n",
      "39\n",
      "42\n",
      "45\n",
      "48\n",
      "51\n",
      "54\n",
      "57\n",
      "60\n",
      "63\n",
      "66\n",
      "69\n",
      "72\n",
      "75\n",
      "78\n",
      "81\n",
      "84\n",
      "87\n",
      "90\n",
      "93\n",
      "96\n",
      "99\n"
     ]
    },
    {
     "name": "stdin",
     "output_type": "stream",
     "text": [
      "Bir kelime giriniz:  kübra\n"
     ]
    },
    {
     "name": "stdout",
     "output_type": "stream",
     "text": [
      "k\n",
      "ü\n",
      "b\n",
      "r\n",
      "a\n"
     ]
    }
   ],
   "source": [
    "\n",
    " # 1'den 100'e kadar olan sayılardan yalnızca 3'e bölünebilenleri yazdır\n",
    "for i in range(1, 101):\n",
    "    if i % 3 == 0:\n",
    "        print(i)\n",
    "\n",
    "# Bir kelimenin her harfini ayrı bir satıra yazdır\n",
    "kelime = input(\"Bir kelime giriniz: \")\n",
    "for harf in kelime:\n",
    "    print(harf)"
   ]
  },
  {
   "cell_type": "code",
   "execution_count": 21,
   "id": "2dc71306-59c3-41fa-add8-1874345cffe6",
   "metadata": {},
   "outputs": [
    {
     "name": "stdout",
     "output_type": "stream",
     "text": [
      "En küçük sayı: 1\n",
      "En büyük sayı: 114\n",
      "14\n",
      "2\n",
      "4\n",
      "6\n",
      "14\n",
      "18\n",
      "56\n",
      "32\n",
      "114\n",
      "52\n",
      "48\n"
     ]
    }
   ],
   "source": [
    "# Bir liste içerisindeki en büyük ve en küçük sayıyı for döngüsüyle bul\n",
    "sayilar = [1, 2, 4, 6, 14, 18, 21, 19, 56, 32, 114, 52, 48, 71]\n",
    "en_kucuk = sayilar[0]\n",
    "en_buyuk = sayilar[0]\n",
    "\n",
    "for sayi in sayilar:\n",
    "    if sayi < en_kucuk:\n",
    "        en_kucuk = sayi\n",
    "    if sayi > en_buyuk:\n",
    "        en_buyuk = sayi\n",
    "\n",
    "print(f\"En küçük sayı: {en_kucuk}\")\n",
    "print(f\"En büyük sayı: {en_buyuk}\")\n",
    "\n",
    "# Listenin uzunluğunu bulup çift sayıları yazdır\n",
    "print(len(sayilar))\n",
    "for sayi in sayilar:\n",
    "    if sayi % 2 == 0:\n",
    "        print(sayi)"
   ]
  },
  {
   "cell_type": "code",
   "execution_count": 25,
   "id": "36440f92-8596-49f2-8b26-22bdf16c8fef",
   "metadata": {},
   "outputs": [
    {
     "name": "stdin",
     "output_type": "stream",
     "text": [
      "Lütfen bir isim giriniz:  kübra\n",
      "Lütfen bir isim giriniz:  abdülrezzak\n"
     ]
    },
    {
     "name": "stdout",
     "output_type": "stream",
     "text": [
      "En uzun isim: abdülrezzak\n"
     ]
    }
   ],
   "source": [
    "# Girilen iki isimden uzun olanı bulma\n",
    "isimler = []\n",
    "isim1 = input(\"Lütfen bir isim giriniz: \")\n",
    "isim2 = input(\"Lütfen bir isim giriniz: \")\n",
    "isimler.append(isim1)\n",
    "isimler.append(isim2)\n",
    "\n",
    "if len(isimler[0]) > len(isimler[1]):\n",
    "    print(\"En uzun isim:\", isimler[0])\n",
    "else:\n",
    "    print(\"En uzun isim:\", isimler[1])"
   ]
  },
  {
   "cell_type": "code",
   "execution_count": 29,
   "id": "c603b09d-62f8-4529-bf15-c93cb55d9160",
   "metadata": {},
   "outputs": [
    {
     "name": "stdout",
     "output_type": "stream",
     "text": [
      "2\n",
      "4\n",
      "6\n",
      "8\n",
      "10\n",
      "12\n",
      "14\n",
      "16\n"
     ]
    },
    {
     "name": "stdin",
     "output_type": "stream",
     "text": [
      "Bir sayı giriniz:  33\n"
     ]
    },
    {
     "name": "stdout",
     "output_type": "stream",
     "text": [
      "33 asal değildir\n"
     ]
    }
   ],
   "source": [
    "# 1'den 100'e kadar çift sayıları yazdırma\n",
    "for i in range(1, 17):\n",
    "    if i % 2 == 0:\n",
    "        print(i)\n",
    "\n",
    "# Girilen sayının asal olup olmadığını kontrol etme\n",
    "sayi = int(input(\"Bir sayı giriniz: \"))\n",
    "if sayi > 1:\n",
    "    for i in range(2, sayi):\n",
    "        if sayi % i == 0:\n",
    "            print(f\"{sayi} asal değildir\")\n",
    "            break\n",
    "    else:\n",
    "        print(f\"{sayi} asal bir sayıdır.\")\n",
    "else:\n",
    "    print(f\"{sayi} asal bir sayı değildir.\")\n"
   ]
  },
  {
   "cell_type": "code",
   "execution_count": 13,
   "id": "cc3af46a-2fae-4fb6-8c0d-8c3f05d83c86",
   "metadata": {},
   "outputs": [
    {
     "name": "stdin",
     "output_type": "stream",
     "text": [
      "Lütfen bir başlangıç değeri giriniz..: 3\n",
      "Lütfen bir bitiş değeri giriniz..: 13\n"
     ]
    },
    {
     "name": "stdout",
     "output_type": "stream",
     "text": [
      "4\n",
      "6\n",
      "8\n",
      "10\n",
      "12\n"
     ]
    }
   ],
   "source": [
    "#Başlangıç ve bitiş değerini kullanıcıdan alınız ve bu değerler \n",
    "#arasındaki çift sayıları yazdırınız.\n",
    "baslangic_degeri=int(input(\"Lütfen bir başlangıç değeri giriniz..:\"))\n",
    "bitis_degeri=int(input(\"Lütfen bir bitiş değeri giriniz..:\"))\n",
    "i=baslangic_degeri\n",
    "while(i<bitis_degeri):\n",
    "    if i%2==0:\n",
    "        print(i)\n",
    "    i+=1 \n"
   ]
  },
  {
   "cell_type": "code",
   "execution_count": 53,
   "id": "f7c88da3-1b5d-43b7-a9f5-54f2921ea013",
   "metadata": {},
   "outputs": [
    {
     "name": "stdout",
     "output_type": "stream",
     "text": [
      "100\n",
      "99\n",
      "98\n",
      "97\n",
      "96\n",
      "95\n",
      "94\n",
      "93\n",
      "92\n",
      "91\n",
      "90\n",
      "89\n",
      "88\n",
      "87\n",
      "86\n",
      "85\n",
      "84\n",
      "83\n",
      "82\n",
      "81\n",
      "80\n",
      "79\n",
      "78\n",
      "77\n",
      "76\n",
      "75\n",
      "74\n",
      "73\n",
      "72\n",
      "71\n",
      "70\n",
      "69\n",
      "68\n",
      "67\n",
      "66\n",
      "65\n",
      "64\n",
      "63\n",
      "62\n",
      "61\n",
      "60\n",
      "59\n",
      "58\n",
      "57\n",
      "56\n",
      "55\n",
      "54\n",
      "53\n",
      "52\n",
      "51\n",
      "50\n",
      "49\n",
      "48\n",
      "47\n",
      "46\n",
      "45\n",
      "44\n",
      "43\n",
      "42\n",
      "41\n",
      "40\n",
      "39\n",
      "38\n",
      "37\n",
      "36\n",
      "35\n",
      "34\n",
      "33\n",
      "32\n",
      "31\n",
      "30\n",
      "29\n",
      "28\n",
      "27\n",
      "26\n",
      "25\n",
      "24\n",
      "23\n",
      "22\n",
      "21\n",
      "20\n",
      "19\n",
      "18\n",
      "17\n",
      "16\n",
      "15\n",
      "14\n",
      "13\n",
      "12\n",
      "11\n",
      "10\n",
      "9\n",
      "8\n",
      "7\n",
      "6\n",
      "5\n",
      "4\n",
      "3\n",
      "2\n",
      "1\n"
     ]
    }
   ],
   "source": [
    "# 1-100 arasındaki sayıları azalan şekilde yazdırınız.\n",
    "i=100\n",
    "while i>=1:\n",
    "    print(i)\n",
    "    i-=1"
   ]
  },
  {
   "cell_type": "code",
   "execution_count": 55,
   "id": "fd057415-f0f5-4ad5-8a94-d9eec4cca639",
   "metadata": {},
   "outputs": [
    {
     "name": "stdin",
     "output_type": "stream",
     "text": [
      "Lütfen bir sayı giriniz:  4\n",
      "Lütfen bir sayı giriniz: 3\n",
      "Lütfen bir sayı giriniz: 7\n",
      "Lütfen bir sayı giriniz: 11\n",
      "Lütfen bir sayı giriniz: 17\n"
     ]
    },
    {
     "name": "stdout",
     "output_type": "stream",
     "text": [
      "Sıralanmış sayılar = [3, 4, 7, 11, 17]\n"
     ]
    }
   ],
   "source": [
    "#kullanıcıdan alacağınız 5 sayıyı ekrana sıralı bir şekilde yazdırın.\n",
    "sirali_sayilar=[]\n",
    "i=0\n",
    "while i<5:\n",
    "    sayilar=int(input(\"Lütfen bir sayı giriniz:\"))\n",
    "    sirali_sayilar.append(sayilar)\n",
    "    i+=1\n",
    "\n",
    "sirali_sayilar.sort()\n",
    "print(f\"Sıralanmış sayılar = {sirali_sayilar}\")\n",
    "\n",
    "    \n",
    "\n"
   ]
  },
  {
   "cell_type": "code",
   "execution_count": 103,
   "id": "ad1270ee-c89e-4b74-8ce8-183995714154",
   "metadata": {},
   "outputs": [
    {
     "name": "stdin",
     "output_type": "stream",
     "text": [
      "Lütfen kullanıcı adınızı giriniz:  kubra dur\n"
     ]
    },
    {
     "name": "stdout",
     "output_type": "stream",
     "text": [
      "Sayın kullanıcı,kullanıcı adınız boşluk içeremez..\n"
     ]
    },
    {
     "name": "stdin",
     "output_type": "stream",
     "text": [
      "Lütfen kullanıcı adınızı giriniz: kubradur\n"
     ]
    },
    {
     "name": "stdout",
     "output_type": "stream",
     "text": [
      "Kullanıcı adı başarıyla alındı: kubradur\n"
     ]
    }
   ],
   "source": [
    "#klavyeden girişi istenen username bilgisi için boşluk girildiği\n",
    "#sürece tekrar username girişi isteyiniz.\n",
    "\n",
    "username=input(\"Lütfen kullanıcı adınızı giriniz:\")\n",
    "while ' ' in username:\n",
    "    print(\"Sayın kullanıcı,kullanıcı adınız boşluk içeremez..\")\n",
    "    username=input(\"Lütfen kullanıcı adınızı giriniz:\")\n",
    "\n",
    "print(f\"Kullanıcı adı başarıyla alındı: {username}\")"
   ]
  },
  {
   "cell_type": "code",
   "execution_count": 57,
   "id": "3e87481d-a1ed-4d49-9c35-1d42971fad2d",
   "metadata": {},
   "outputs": [
    {
     "name": "stdin",
     "output_type": "stream",
     "text": [
      "Kullanıcı adı:   kubra dur\n"
     ]
    },
    {
     "name": "stdout",
     "output_type": "stream",
     "text": [
      "Girilen kullanıcı adı:  kubra dur\n"
     ]
    }
   ],
   "source": [
    "#Alternatif kod \n",
    "kullanici_adi= \"\"\n",
    "\n",
    "while not kullanici_adi:\n",
    "    kullanici_adi=input(\"Kullanıcı adı: \")\n",
    "\n",
    "print(\"Girilen kullanıcı adı: \"+ kullanici_adi)"
   ]
  },
  {
   "cell_type": "code",
   "execution_count": 67,
   "id": "d62838b6-c6f3-4755-8d3a-a4e3cf927fe4",
   "metadata": {},
   "outputs": [
    {
     "name": "stdin",
     "output_type": "stream",
     "text": [
      "Öğrenci no:  100\n",
      "Öğrenci'nin ad bilgisi:  lina\n",
      "Öğrenci'nin soyad bilgisi:  dur\n",
      "Devam mı? (e/h): e\n",
      "Öğrenci no:  200\n",
      "Öğrenci'nin ad bilgisi:  kübra \n",
      "Öğrenci'nin soyad bilgisi:  dur\n",
      "Devam mı? (e/h): h\n"
     ]
    },
    {
     "name": "stdout",
     "output_type": "stream",
     "text": [
      "100 numaralı öğrencinin adı lina dur\n",
      "200 numaralı öğrencinin adı kübra  dur\n"
     ]
    }
   ],
   "source": [
    "# klavyeden girilen n sayıdaki öğrenci bilgisini liste içerisinde saklayınız.\n",
    "# **dictionary listesi yapısı (ogrenciNo.ogrenciAdi,ogrenciSoyad) şeklinde olsun\n",
    "# ** öğrenci ekleme işlemi bittiğinde öğrencileri listeleyiniz.\n",
    "ogr_bilgi=[]\n",
    "devammi=\"e\"\n",
    "while devammi!=\"h\":\n",
    "    ogrenciNo=input(\"Öğrenci no: \")\n",
    "    ogrenciAdi=input(\"Öğrenci'nin ad bilgisi: \")\n",
    "    ogrenciSoyad=input(\"Öğrenci'nin soyad bilgisi: \")\n",
    "    \n",
    "    ogr_bilgi.append({\n",
    "        \"ogrenciNo\": ogrenciNo,\n",
    "        \"ogrenciAdi\": ogrenciAdi,\n",
    "        \"ogrenciSoyad\": ogrenciSoyad,\n",
    "    })\n",
    "    devammi= input(\"Devam mı? (e/h):\")\n",
    "\n",
    "for ogrenci in ogr_bilgi:\n",
    "    print(f\"{ogrenci[\"ogrenciNo\"]} numaralı öğrencinin adı {ogrenci[\"ogrenciAdi\"]} {ogrenci[\"ogrenciSoyad\"]}\")\n",
    "    "
   ]
  },
  {
   "cell_type": "code",
   "execution_count": 73,
   "id": "50c3beab-8f02-401f-bc88-41ea1213c3ba",
   "metadata": {},
   "outputs": [
    {
     "name": "stdout",
     "output_type": "stream",
     "text": [
      "K\n",
      "ü\n",
      "b\n",
      "r\n",
      "a\n",
      " \n",
      "u\n",
      "r\n",
      " \n",
      "l\n",
      "i\n",
      "n\n",
      "a\n",
      " \n"
     ]
    }
   ],
   "source": [
    "# Break: şartı sağladığı noktada direkt döngüyü SONLANDIRIR.\n",
    "# Continue: şartı sağlayan noktayı atlayıp döngüye DEVAM EDER.\n",
    "# FOR DÖNGÜSÜ:\n",
    "\n",
    "isim=\"Kübra dur \"\n",
    "for harf in isim:\n",
    "    if(harf== \"d\"):\n",
    "        continue\n",
    "    print(harf)\n",
    "\n",
    "isim2= \"lina dur\"\n",
    "for harf in isim2:\n",
    "    if (harf==\"d\"):\n",
    "        break\n",
    "    print(harf)    \n",
    "\n"
   ]
  },
  {
   "cell_type": "code",
   "execution_count": 89,
   "id": "97d41a3d-561e-47f3-9be3-9216d8c47231",
   "metadata": {},
   "outputs": [
    {
     "name": "stdout",
     "output_type": "stream",
     "text": [
      "1\n",
      "2\n",
      "3\n",
      "sayıyı atladık\n",
      "5\n",
      "6\n",
      "7\n",
      "8\n",
      "9\n",
      "--------------------------------------------------\n",
      "2550\n",
      "1\n",
      "2\n",
      "3\n",
      "4\n",
      "5\n",
      "6\n",
      "7\n",
      "Döngü sonlandı\n"
     ]
    }
   ],
   "source": [
    "#WHİLE DÖNGÜSÜ:\n",
    "\n",
    "#Continue\n",
    "i=0\n",
    "while(i<9):\n",
    "    i+=1 \n",
    "    if(i==4):\n",
    "        print(\"sayıyı atladık\")\n",
    "        continue \n",
    "    print(i) \n",
    "print(\"-\"*50)    \n",
    "i=0\n",
    "toplam=0\n",
    "\n",
    "while(i<=100):\n",
    "    i+=1\n",
    "    if(i%2==1):\n",
    "        continue\n",
    "    toplam+=i\n",
    "print(toplam)\n",
    "\n",
    "# Break \n",
    "i=0\n",
    "while(i<10):\n",
    "    i+=1 \n",
    "    if(i==8):\n",
    "        print(\"Döngü sonlandı\")\n",
    "        break \n",
    "    print(i) \n",
    "    \n",
    "\n",
    "\n",
    "\n",
    "        \n"
   ]
  },
  {
   "cell_type": "code",
   "execution_count": 95,
   "id": "ca44444b-c541-4d5c-8273-68803b29fd59",
   "metadata": {},
   "outputs": [
    {
     "name": "stdout",
     "output_type": "stream",
     "text": [
      "1\n",
      "3\n",
      "5\n",
      "7\n",
      "9\n",
      "11\n",
      "13\n",
      "15\n",
      "[0, -1, -2, -3, -4, -5, -6, -7, -8, -9, -10, -11, -12, -13, -14, -15, -16, -17, -18, -19]\n"
     ]
    }
   ],
   "source": [
    "# Range(aralık) methodu\n",
    "\n",
    "liste=[1,2,3,4,5]\n",
    "for i in range(1,16,2):\n",
    "    print(i)\n",
    "# range ile kolayca liste oluşturma\n",
    "\n",
    "#rng=range(10)\n",
    "#rng= range(10,20)\n",
    "#rng= range(100,200,10)\n",
    "\n",
    "rng=range(0,-20,-1)\n",
    "sonuc=list(rng)\n",
    "print(sonuc)\n"
   ]
  },
  {
   "cell_type": "code",
   "execution_count": 8,
   "id": "b8db61b0-86d1-4433-bc9c-413f0c8541a5",
   "metadata": {},
   "outputs": [
    {
     "name": "stdout",
     "output_type": "stream",
     "text": [
      "1-opel\n",
      "2-bmw\n",
      "3-togg\n",
      "--------------------------------------------------\n",
      "<class 'enumerate'>\n",
      "[(1, 'opel'), (2, 'bmw'), (3, 'togg')]\n",
      "--------------------------------------------------\n",
      "1-opel\n",
      "2-bmw\n",
      "3-togg\n"
     ]
    }
   ],
   "source": [
    "#enumerate: index numarasını sağlar\n",
    "\n",
    "#index numarasını enumerate'siz yazdırma:\n",
    "markalar=[\"opel\",\"bmw\",\"togg\"]\n",
    "index=1\n",
    "for marka in markalar:\n",
    "    print(f\"{index}-{marka}\")\n",
    "    index+=1\n",
    "print(\"-\"*50)\n",
    "\n",
    "obj1=enumerate(markalar,1)\n",
    "print(type(obj1))\n",
    "print(list(obj1))\n",
    "print(\"-\"*50)\n",
    "for index,marka in enumerate(markalar,1):\n",
    "    print(f\"{index}-{marka}\")\n",
    "\n",
    "  \n",
    "      "
   ]
  },
  {
   "cell_type": "code",
   "execution_count": 16,
   "id": "09438b7b-bd51-4fd4-9237-8854bd17b5c4",
   "metadata": {},
   "outputs": [
    {
     "name": "stdout",
     "output_type": "stream",
     "text": [
      "[(100, 'ali'), (200, 'ayşe'), (300, 'canan')]\n",
      "--------------------------------------------------\n",
      "(100, 'ali')\n",
      "(200, 'ayşe')\n",
      "(300, 'canan')\n",
      "--------------------------------------------------\n",
      "100 ali\n",
      "200 ayşe\n",
      "300 canan\n"
     ]
    }
   ],
   "source": [
    "#zip methodu:Birden fazla listeyi birleştirmeye yarayan method\n",
    "numara=[100,200,300]\n",
    "ogrenci=[\"ali\",\"ayşe\",\"canan\"]\n",
    "print(list(zip(numara,ogrenci))) #for döngüsü kullanmadığımız noktalarda liste tipini dönüştürmemiz gerekir\n",
    "print(\"-\"*50)\n",
    "for ogr in zip(numara,ogrenci):\n",
    "    print(ogr)\n",
    "print(\"-\"*50)\n",
    "for no,isim in zip(numara,ogrenci):\n",
    "    print(no,isim)\n",
    "\n",
    "\n",
    "\n",
    "\n",
    "\n"
   ]
  },
  {
   "cell_type": "code",
   "execution_count": null,
   "id": "d984e9fa-6d55-4d53-acf4-51812d1ac518",
   "metadata": {},
   "outputs": [],
   "source": []
  }
 ],
 "metadata": {
  "kernelspec": {
   "display_name": "Python [conda env:base] *",
   "language": "python",
   "name": "conda-base-py"
  },
  "language_info": {
   "codemirror_mode": {
    "name": "ipython",
    "version": 3
   },
   "file_extension": ".py",
   "mimetype": "text/x-python",
   "name": "python",
   "nbconvert_exporter": "python",
   "pygments_lexer": "ipython3",
   "version": "3.12.7"
  }
 },
 "nbformat": 4,
 "nbformat_minor": 5
}
